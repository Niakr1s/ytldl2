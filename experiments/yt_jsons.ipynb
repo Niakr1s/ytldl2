{
 "cells": [
  {
   "cell_type": "code",
   "execution_count": 3,
   "metadata": {},
   "outputs": [],
   "source": [
    "import json\n",
    "import pathlib\n",
    "from ytmusicapi import YTMusic\n",
    "\n",
    "from ytldl2.oauth import get_oauth\n",
    "\n",
    "yt = YTMusic(get_oauth())\n",
    "\n",
    "home_path = pathlib.Path(\"home.json\")\n",
    "home_items = yt.get_home(limit=100)\n",
    "\n",
    "with open(home_path, \"w\", encoding=\"utf-8\") as f:\n",
    "    json.dump(home_items, f, ensure_ascii=False, indent=4)\n",
    "\n",
    "watch_plylist_path = pathlib.Path(\"watch_playlist.json\")\n",
    "watch_playlist_items = yt.get_watch_playlist(videoId=\"6xZWW8ZQvVs\", limit=100)\n",
    "\n",
    "with open(watch_plylist_path, \"w\", encoding=\"utf-8\") as f:\n",
    "    json.dump(watch_playlist_items, f, ensure_ascii=False, indent=4)\n",
    "\n",
    "plylist_path = pathlib.Path(\"playlist.json\")\n",
    "playlist_items = yt.get_playlist(\n",
    "    playlistId=\"RDTMAK5uy_kset8DisdE7LSD4TNjEVvrKRTmG7a56sY\", limit=100\n",
    ")\n",
    "\n",
    "with open(plylist_path, \"w\", encoding=\"utf-8\") as f:\n",
    "    json.dump(playlist_items, f, ensure_ascii=False, indent=4)"
   ]
  }
 ],
 "metadata": {
  "kernelspec": {
   "display_name": ".venv",
   "language": "python",
   "name": "python3"
  },
  "language_info": {
   "codemirror_mode": {
    "name": "ipython",
    "version": 3
   },
   "file_extension": ".py",
   "mimetype": "text/x-python",
   "name": "python",
   "nbconvert_exporter": "python",
   "pygments_lexer": "ipython3",
   "version": "3.11.4"
  },
  "orig_nbformat": 4
 },
 "nbformat": 4,
 "nbformat_minor": 2
}
